{
 "cells": [
  {
   "cell_type": "code",
   "execution_count": 1,
   "metadata": {},
   "outputs": [],
   "source": [
    "from mortgagepy.mortgage import CapitalRepaymentMortgage, InterestOnlyMortgage"
   ]
  },
  {
   "cell_type": "code",
   "execution_count": 2,
   "metadata": {},
   "outputs": [
    {
     "data": {
      "text/html": [
       "<pre style=\"white-space:pre;overflow-x:auto;line-height:normal;font-family:Menlo,'DejaVu Sans Mono',consolas,'Courier New',monospace\"><span style=\"font-style: italic\">                                       Capital Repayment Mortgage Summary                                       </span>\n",
       "┏━━━━━━━━━━━━━━━━┳━━━━━━━━━━━━┳━━━━━━━━━━━━━━━┳━━━━━━━━━━━━━━━━━━━┳━━━━━━━━━━━━━━━┳━━━━━━━━━━━━━━━┳━━━━━━━━━━━━┓\n",
       "┃<span style=\"font-weight: bold\"> Property Value </span>┃<span style=\"font-weight: bold\"> Mortgage   </span>┃<span style=\"font-weight: bold\"> Loan To Value </span>┃<span style=\"font-weight: bold\"> Monthly Repayment </span>┃<span style=\"font-weight: bold\"> Term (Months) </span>┃<span style=\"font-weight: bold\"> Interest Rate </span>┃<span style=\"font-weight: bold\"> Total Cost </span>┃\n",
       "┣━━━━━━━━━━━━━━━━╋━━━━━━━━━━━━╋━━━━━━━━━━━━━━━╋━━━━━━━━━━━━━━━━━━━╋━━━━━━━━━━━━━━━╋━━━━━━━━━━━━━━━╋━━━━━━━━━━━━┫\n",
       "┃ £280,000.0     ┃ £210,000.0 ┃ 75%           ┃ £315.0            ┃ 300           ┃ 1.8%          ┃ £94,500.0  ┃\n",
       "┗━━━━━━━━━━━━━━━━┻━━━━━━━━━━━━┻━━━━━━━━━━━━━━━┻━━━━━━━━━━━━━━━━━━━┻━━━━━━━━━━━━━━━┻━━━━━━━━━━━━━━━┻━━━━━━━━━━━━┛\n",
       "</pre>\n"
      ],
      "text/plain": [
       "\u001b[3m                                       Capital Repayment Mortgage Summary                                       \u001b[0m\n",
       "┏━━━━━━━━━━━━━━━━┳━━━━━━━━━━━━┳━━━━━━━━━━━━━━━┳━━━━━━━━━━━━━━━━━━━┳━━━━━━━━━━━━━━━┳━━━━━━━━━━━━━━━┳━━━━━━━━━━━━┓\n",
       "┃\u001b[1m \u001b[0m\u001b[1mProperty Value\u001b[0m\u001b[1m \u001b[0m┃\u001b[1m \u001b[0m\u001b[1mMortgage  \u001b[0m\u001b[1m \u001b[0m┃\u001b[1m \u001b[0m\u001b[1mLoan To Value\u001b[0m\u001b[1m \u001b[0m┃\u001b[1m \u001b[0m\u001b[1mMonthly Repayment\u001b[0m\u001b[1m \u001b[0m┃\u001b[1m \u001b[0m\u001b[1mTerm (Months)\u001b[0m\u001b[1m \u001b[0m┃\u001b[1m \u001b[0m\u001b[1mInterest Rate\u001b[0m\u001b[1m \u001b[0m┃\u001b[1m \u001b[0m\u001b[1mTotal Cost\u001b[0m\u001b[1m \u001b[0m┃\n",
       "┣━━━━━━━━━━━━━━━━╋━━━━━━━━━━━━╋━━━━━━━━━━━━━━━╋━━━━━━━━━━━━━━━━━━━╋━━━━━━━━━━━━━━━╋━━━━━━━━━━━━━━━╋━━━━━━━━━━━━┫\n",
       "┃ £280,000.0     ┃ £210,000.0 ┃ 75%           ┃ £315.0            ┃ 300           ┃ 1.8%          ┃ £94,500.0  ┃\n",
       "┗━━━━━━━━━━━━━━━━┻━━━━━━━━━━━━┻━━━━━━━━━━━━━━━┻━━━━━━━━━━━━━━━━━━━┻━━━━━━━━━━━━━━━┻━━━━━━━━━━━━━━━┻━━━━━━━━━━━━┛\n"
      ]
     },
     "metadata": {},
     "output_type": "display_data"
    }
   ],
   "source": [
    "interest_only = InterestOnlyMortgage(\n",
    "    property_value=280000, mortgage=210000, term_months=300, interest_rate=1.8\n",
    ")\n",
    "\n",
    "interest_only.summarise(printed=True)"
   ]
  },
  {
   "cell_type": "code",
   "execution_count": 3,
   "metadata": {},
   "outputs": [
    {
     "data": {
      "text/html": [
       "<pre style=\"white-space:pre;overflow-x:auto;line-height:normal;font-family:Menlo,'DejaVu Sans Mono',consolas,'Courier New',monospace\"><span style=\"font-style: italic\">                                        Capital Repayment Mortgage Summary                                         </span>\n",
       "┏━━━━━━━━━━━━━━┳━━━━━━━━━━━┳━━━━━━━━━━━━━━┳━━━━━━━━━━━━━━┳━━━━━━━━━━━━━━┳━━━━━━━━━━━━━┳━━━━━━━━━━━━━━┳━━━━━━━━━━━━┓\n",
       "┃<span style=\"font-weight: bold\"> Property     </span>┃<span style=\"font-weight: bold\">           </span>┃<span style=\"font-weight: bold\"> Loan To      </span>┃<span style=\"font-weight: bold\"> Monthly      </span>┃<span style=\"font-weight: bold\"> Term         </span>┃<span style=\"font-weight: bold\"> Interest    </span>┃<span style=\"font-weight: bold\"> Interest     </span>┃<span style=\"font-weight: bold\">            </span>┃\n",
       "┃<span style=\"font-weight: bold\"> Value        </span>┃<span style=\"font-weight: bold\"> Mortgage  </span>┃<span style=\"font-weight: bold\"> Value        </span>┃<span style=\"font-weight: bold\"> Repayment    </span>┃<span style=\"font-weight: bold\"> (Months)     </span>┃<span style=\"font-weight: bold\"> Rate        </span>┃<span style=\"font-weight: bold\"> Paid         </span>┃<span style=\"font-weight: bold\"> Total Cost </span>┃\n",
       "┣━━━━━━━━━━━━━━╋━━━━━━━━━━━╋━━━━━━━━━━━━━━╋━━━━━━━━━━━━━━╋━━━━━━━━━━━━━━╋━━━━━━━━━━━━━╋━━━━━━━━━━━━━━╋━━━━━━━━━━━━┫\n",
       "┃ £320,000.0   ┃ £91,000.0 ┃ 28%          ┃ £487.76      ┃ 320          ┃ 4.48%       ┃ £65083.2     ┃ £156,083.2 ┃\n",
       "┗━━━━━━━━━━━━━━┻━━━━━━━━━━━┻━━━━━━━━━━━━━━┻━━━━━━━━━━━━━━┻━━━━━━━━━━━━━━┻━━━━━━━━━━━━━┻━━━━━━━━━━━━━━┻━━━━━━━━━━━━┛\n",
       "</pre>\n"
      ],
      "text/plain": [
       "\u001b[3m                                        Capital Repayment Mortgage Summary                                         \u001b[0m\n",
       "┏━━━━━━━━━━━━━━┳━━━━━━━━━━━┳━━━━━━━━━━━━━━┳━━━━━━━━━━━━━━┳━━━━━━━━━━━━━━┳━━━━━━━━━━━━━┳━━━━━━━━━━━━━━┳━━━━━━━━━━━━┓\n",
       "┃\u001b[1m \u001b[0m\u001b[1mProperty    \u001b[0m\u001b[1m \u001b[0m┃\u001b[1m           \u001b[0m┃\u001b[1m \u001b[0m\u001b[1mLoan To     \u001b[0m\u001b[1m \u001b[0m┃\u001b[1m \u001b[0m\u001b[1mMonthly     \u001b[0m\u001b[1m \u001b[0m┃\u001b[1m \u001b[0m\u001b[1mTerm        \u001b[0m\u001b[1m \u001b[0m┃\u001b[1m \u001b[0m\u001b[1mInterest   \u001b[0m\u001b[1m \u001b[0m┃\u001b[1m \u001b[0m\u001b[1mInterest    \u001b[0m\u001b[1m \u001b[0m┃\u001b[1m            \u001b[0m┃\n",
       "┃\u001b[1m \u001b[0m\u001b[1mValue       \u001b[0m\u001b[1m \u001b[0m┃\u001b[1m \u001b[0m\u001b[1mMortgage \u001b[0m\u001b[1m \u001b[0m┃\u001b[1m \u001b[0m\u001b[1mValue       \u001b[0m\u001b[1m \u001b[0m┃\u001b[1m \u001b[0m\u001b[1mRepayment   \u001b[0m\u001b[1m \u001b[0m┃\u001b[1m \u001b[0m\u001b[1m(Months)    \u001b[0m\u001b[1m \u001b[0m┃\u001b[1m \u001b[0m\u001b[1mRate       \u001b[0m\u001b[1m \u001b[0m┃\u001b[1m \u001b[0m\u001b[1mPaid        \u001b[0m\u001b[1m \u001b[0m┃\u001b[1m \u001b[0m\u001b[1mTotal Cost\u001b[0m\u001b[1m \u001b[0m┃\n",
       "┣━━━━━━━━━━━━━━╋━━━━━━━━━━━╋━━━━━━━━━━━━━━╋━━━━━━━━━━━━━━╋━━━━━━━━━━━━━━╋━━━━━━━━━━━━━╋━━━━━━━━━━━━━━╋━━━━━━━━━━━━┫\n",
       "┃ £320,000.0   ┃ £91,000.0 ┃ 28%          ┃ £487.76      ┃ 320          ┃ 4.48%       ┃ £65083.2     ┃ £156,083.2 ┃\n",
       "┗━━━━━━━━━━━━━━┻━━━━━━━━━━━┻━━━━━━━━━━━━━━┻━━━━━━━━━━━━━━┻━━━━━━━━━━━━━━┻━━━━━━━━━━━━━┻━━━━━━━━━━━━━━┻━━━━━━━━━━━━┛\n"
      ]
     },
     "metadata": {},
     "output_type": "display_data"
    }
   ],
   "source": [
    "mortgage1 = CapitalRepaymentMortgage(\n",
    "    property_value=320_000,\n",
    "    mortgage=91_000,\n",
    "    interest_rate=4.48,\n",
    "    term_months=320\n",
    ")\n",
    "\n",
    "mortgage1.summarise(printed=True)"
   ]
  },
  {
   "cell_type": "code",
   "execution_count": 4,
   "metadata": {},
   "outputs": [
    {
     "data": {
      "text/html": [
       "<pre style=\"white-space:pre;overflow-x:auto;line-height:normal;font-family:Menlo,'DejaVu Sans Mono',consolas,'Courier New',monospace\"><span style=\"font-style: italic\">                                        Capital Repayment Mortgage Summary                                         </span>\n",
       "┏━━━━━━━━━━━━━━┳━━━━━━━━━━━┳━━━━━━━━━━━━━━┳━━━━━━━━━━━━━━┳━━━━━━━━━━━━━━┳━━━━━━━━━━━━━┳━━━━━━━━━━━━━━┳━━━━━━━━━━━━┓\n",
       "┃<span style=\"font-weight: bold\"> Property     </span>┃<span style=\"font-weight: bold\">           </span>┃<span style=\"font-weight: bold\"> Loan To      </span>┃<span style=\"font-weight: bold\"> Monthly      </span>┃<span style=\"font-weight: bold\"> Term         </span>┃<span style=\"font-weight: bold\"> Interest    </span>┃<span style=\"font-weight: bold\"> Interest     </span>┃<span style=\"font-weight: bold\">            </span>┃\n",
       "┃<span style=\"font-weight: bold\"> Value        </span>┃<span style=\"font-weight: bold\"> Mortgage  </span>┃<span style=\"font-weight: bold\"> Value        </span>┃<span style=\"font-weight: bold\"> Repayment    </span>┃<span style=\"font-weight: bold\"> (Months)     </span>┃<span style=\"font-weight: bold\"> Rate        </span>┃<span style=\"font-weight: bold\"> Paid         </span>┃<span style=\"font-weight: bold\"> Total Cost </span>┃\n",
       "┣━━━━━━━━━━━━━━╋━━━━━━━━━━━╋━━━━━━━━━━━━━━╋━━━━━━━━━━━━━━╋━━━━━━━━━━━━━━╋━━━━━━━━━━━━━╋━━━━━━━━━━━━━━╋━━━━━━━━━━━━┫\n",
       "┃ £320,000.0   ┃ £91,000.0 ┃ 28%          ┃ £474.75      ┃ 320          ┃ 4.23%       ┃ £60920.0     ┃ £151,920.0 ┃\n",
       "┗━━━━━━━━━━━━━━┻━━━━━━━━━━━┻━━━━━━━━━━━━━━┻━━━━━━━━━━━━━━┻━━━━━━━━━━━━━━┻━━━━━━━━━━━━━┻━━━━━━━━━━━━━━┻━━━━━━━━━━━━┛\n",
       "</pre>\n"
      ],
      "text/plain": [
       "\u001b[3m                                        Capital Repayment Mortgage Summary                                         \u001b[0m\n",
       "┏━━━━━━━━━━━━━━┳━━━━━━━━━━━┳━━━━━━━━━━━━━━┳━━━━━━━━━━━━━━┳━━━━━━━━━━━━━━┳━━━━━━━━━━━━━┳━━━━━━━━━━━━━━┳━━━━━━━━━━━━┓\n",
       "┃\u001b[1m \u001b[0m\u001b[1mProperty    \u001b[0m\u001b[1m \u001b[0m┃\u001b[1m           \u001b[0m┃\u001b[1m \u001b[0m\u001b[1mLoan To     \u001b[0m\u001b[1m \u001b[0m┃\u001b[1m \u001b[0m\u001b[1mMonthly     \u001b[0m\u001b[1m \u001b[0m┃\u001b[1m \u001b[0m\u001b[1mTerm        \u001b[0m\u001b[1m \u001b[0m┃\u001b[1m \u001b[0m\u001b[1mInterest   \u001b[0m\u001b[1m \u001b[0m┃\u001b[1m \u001b[0m\u001b[1mInterest    \u001b[0m\u001b[1m \u001b[0m┃\u001b[1m            \u001b[0m┃\n",
       "┃\u001b[1m \u001b[0m\u001b[1mValue       \u001b[0m\u001b[1m \u001b[0m┃\u001b[1m \u001b[0m\u001b[1mMortgage \u001b[0m\u001b[1m \u001b[0m┃\u001b[1m \u001b[0m\u001b[1mValue       \u001b[0m\u001b[1m \u001b[0m┃\u001b[1m \u001b[0m\u001b[1mRepayment   \u001b[0m\u001b[1m \u001b[0m┃\u001b[1m \u001b[0m\u001b[1m(Months)    \u001b[0m\u001b[1m \u001b[0m┃\u001b[1m \u001b[0m\u001b[1mRate       \u001b[0m\u001b[1m \u001b[0m┃\u001b[1m \u001b[0m\u001b[1mPaid        \u001b[0m\u001b[1m \u001b[0m┃\u001b[1m \u001b[0m\u001b[1mTotal Cost\u001b[0m\u001b[1m \u001b[0m┃\n",
       "┣━━━━━━━━━━━━━━╋━━━━━━━━━━━╋━━━━━━━━━━━━━━╋━━━━━━━━━━━━━━╋━━━━━━━━━━━━━━╋━━━━━━━━━━━━━╋━━━━━━━━━━━━━━╋━━━━━━━━━━━━┫\n",
       "┃ £320,000.0   ┃ £91,000.0 ┃ 28%          ┃ £474.75      ┃ 320          ┃ 4.23%       ┃ £60920.0     ┃ £151,920.0 ┃\n",
       "┗━━━━━━━━━━━━━━┻━━━━━━━━━━━┻━━━━━━━━━━━━━━┻━━━━━━━━━━━━━━┻━━━━━━━━━━━━━━┻━━━━━━━━━━━━━┻━━━━━━━━━━━━━━┻━━━━━━━━━━━━┛\n"
      ]
     },
     "metadata": {},
     "output_type": "display_data"
    }
   ],
   "source": [
    "mortgage2 = CapitalRepaymentMortgage(\n",
    "    property_value=320_000,\n",
    "    mortgage=91_000,\n",
    "    interest_rate=4.23,\n",
    "    term_months=320\n",
    ")\n",
    "\n",
    "mortgage2.summarise(printed=True)"
   ]
  },
  {
   "cell_type": "code",
   "execution_count": 5,
   "metadata": {},
   "outputs": [
    {
     "data": {
      "text/plain": [
       "{'time to repay (months)': 232,\n",
       " 'time saved (months)': 88.0,\n",
       " 'total interest paid (£)': 44886.37,\n",
       " 'interest saved (£)': 20196.83}"
      ]
     },
     "execution_count": 5,
     "metadata": {},
     "output_type": "execute_result"
    }
   ],
   "source": [
    "mortgage1.overpayment_projection(\n",
    "    monthly_overpayment=100\n",
    ")"
   ]
  },
  {
   "cell_type": "code",
   "execution_count": 6,
   "metadata": {},
   "outputs": [
    {
     "data": {
      "text/plain": [
       "913.21"
      ]
     },
     "execution_count": 6,
     "metadata": {},
     "output_type": "execute_result"
    }
   ],
   "source": [
    "from mortgagepy.calculator import monthly_capital_repayment\n",
    "\n",
    "monthly_capital_repayment(\n",
    "    mortgage=130_500, interest_rate=6.89, mortgage_length_months=300\n",
    ")"
   ]
  },
  {
   "cell_type": "code",
   "execution_count": 7,
   "metadata": {},
   "outputs": [
    {
     "data": {
      "text/plain": [
       "273963.0"
      ]
     },
     "execution_count": 7,
     "metadata": {},
     "output_type": "execute_result"
    }
   ],
   "source": [
    "from mortgagepy.calculator import total_cost_of_mortgage\n",
    "\n",
    "total_cost_of_mortgage(\n",
    "    mortgage=130_500, interest_rate=6.89, mortgage_length_months=300\n",
    ")"
   ]
  },
  {
   "cell_type": "code",
   "execution_count": 8,
   "metadata": {},
   "outputs": [
    {
     "data": {
      "text/plain": [
       "423.04"
      ]
     },
     "execution_count": 8,
     "metadata": {},
     "output_type": "execute_result"
    }
   ],
   "source": [
    "from mortgagepy.calculator import monthly_interest_only_repayment\n",
    "\n",
    "monthly_interest_only_repayment(\n",
    "    mortgage=130_500, interest_rate=3.89\n",
    ")"
   ]
  },
  {
   "cell_type": "code",
   "execution_count": 9,
   "metadata": {},
   "outputs": [
    {
     "data": {
      "text/plain": [
       "75"
      ]
     },
     "execution_count": 9,
     "metadata": {},
     "output_type": "execute_result"
    }
   ],
   "source": [
    "from mortgagepy.calculator import ltv\n",
    "\n",
    "ltv(\n",
    "    property_value=200_000, deposit=50_000\n",
    ")"
   ]
  },
  {
   "cell_type": "code",
   "execution_count": 10,
   "metadata": {},
   "outputs": [
    {
     "data": {
      "text/plain": [
       "158.7"
      ]
     },
     "execution_count": 10,
     "metadata": {},
     "output_type": "execute_result"
    }
   ],
   "source": [
    "from mortgagepy.calculator import monthly_interest\n",
    "\n",
    "monthly_interest(\n",
    "    balance_at_previous_month=98_868.70, interest_rate=1.89, month=10, year=2023\n",
    ")"
   ]
  },
  {
   "cell_type": "code",
   "execution_count": 11,
   "metadata": {},
   "outputs": [
    {
     "data": {
      "text/plain": [
       "{'time to repay (months)': 259,\n",
       " 'time saved (months)': 41,\n",
       " 'total interest paid (£)': 84900.12}"
      ]
     },
     "execution_count": 11,
     "metadata": {},
     "output_type": "execute_result"
    }
   ],
   "source": [
    "from mortgagepy.calculator import capital_overpayment\n",
    "\n",
    "capital_overpayment(\n",
    "    mortgage=200000, interest_rate=3.5, mortgage_length_months=300, monthly_overpayment=100\n",
    ")"
   ]
  },
  {
   "cell_type": "code",
   "execution_count": 12,
   "metadata": {},
   "outputs": [
    {
     "data": {
      "text/plain": [
       "{0: {'interest_rate': 1, 'repayment': 491.82},\n",
       " 1: {'interest_rate': 2, 'repayment': 553.13}}"
      ]
     },
     "execution_count": 12,
     "metadata": {},
     "output_type": "execute_result"
    }
   ],
   "source": [
    "from mortgagepy.compare import compare_capital_repayment_rates\n",
    "\n",
    "compare_capital_repayment_rates(\n",
    "    mortgage=130_500, interest_rates=[1, 2], mortgage_length_months=300\n",
    ")"
   ]
  },
  {
   "cell_type": "code",
   "execution_count": 13,
   "metadata": {},
   "outputs": [
    {
     "data": {
      "text/plain": [
       "{0: {'interest_rate': 1, 'repayment': 108.75},\n",
       " 1: {'interest_rate': 2, 'repayment': 217.5}}"
      ]
     },
     "execution_count": 13,
     "metadata": {},
     "output_type": "execute_result"
    }
   ],
   "source": [
    "from mortgagepy.compare import compare_interest_only_rates\n",
    "\n",
    "compare_interest_only_rates(\n",
    "    mortgage=130_500, interest_rates=[1, 2]\n",
    ")"
   ]
  },
  {
   "cell_type": "code",
   "execution_count": 14,
   "metadata": {},
   "outputs": [
    {
     "name": "stdout",
     "output_type": "stream",
     "text": [
      "Months to repay: 259\n",
      "Time saved: 41 months\n",
      "Total interest paid: £84900.12\n"
     ]
    }
   ],
   "source": [
    "from mortgagepy.calculator import capital_overpayment\n",
    "\n",
    "# Example usage\n",
    "mortgage = 200000\n",
    "interest_rate = 3.5\n",
    "mortgage_length_months = 300  # 25 years\n",
    "monthly_overpayment = 100\n",
    "\n",
    "result = capital_overpayment(\n",
    "    mortgage, interest_rate, mortgage_length_months, monthly_overpayment\n",
    ")\n",
    "print(f\"Months to repay: {result['time to repay (months)']}\")\n",
    "print(f\"Time saved: {result['time saved (months)']} months\")\n",
    "print(f\"Total interest paid: £{result['total interest paid (£)']}\")"
   ]
  }
 ],
 "metadata": {
  "kernelspec": {
   "display_name": "base",
   "language": "python",
   "name": "python3"
  },
  "language_info": {
   "codemirror_mode": {
    "name": "ipython",
    "version": 3
   },
   "file_extension": ".py",
   "mimetype": "text/x-python",
   "name": "python",
   "nbconvert_exporter": "python",
   "pygments_lexer": "ipython3",
   "version": "3.11.5"
  }
 },
 "nbformat": 4,
 "nbformat_minor": 2
}
